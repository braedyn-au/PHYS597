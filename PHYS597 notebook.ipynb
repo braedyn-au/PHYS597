{
 "cells": [
  {
   "cell_type": "code",
   "execution_count": 1,
   "metadata": {},
   "outputs": [],
   "source": [
    "import numpy as np\n",
    "import matplotlib.pyplot as plt"
   ]
  },
  {
   "cell_type": "markdown",
   "metadata": {},
   "source": [
    "# Transfer Function Calibration"
   ]
  },
  {
   "cell_type": "code",
   "execution_count": 2,
   "metadata": {},
   "outputs": [
    {
     "name": "stdout",
     "output_type": "stream",
     "text": [
      "Gatt =  9.999000099990002e-05  +/- 1.117810415488693e-05\n"
     ]
    }
   ],
   "source": [
    "#ATTENUATOR CALCULATIONS\n",
    "ra1 = 51\n",
    "ra2 = 510000\n",
    "Gatt =  ra1/(ra1+ra2)\n",
    "uGatt = np.sqrt((ra2/(ra1+ra2)**2)**2 * (ra1*0.05)**2 + \n",
    "                (ra1/(ra1+ra2)**2)**2 * (ra2*0.1)**2)\n",
    "print('Gatt = ', Gatt , ' +/-',uGatt)"
   ]
  },
  {
   "cell_type": "code",
   "execution_count": 3,
   "metadata": {},
   "outputs": [],
   "source": [
    "#POINT BY POINT TRANSFER FUNCTION MEASUREMENT\n",
    "freqs4 = np.asarray([0.20289, #kHz\n",
    "0.39737,\n",
    "0.5967,\n",
    "0.80319,\n",
    "1.039,\n",
    "1.2475,\n",
    "1.4007,\n",
    "1.6248,\n",
    "1.825,\n",
    "2.0191,\n",
    "2.2001,\n",
    "2.4117,\n",
    "2.6017,\n",
    "2.8021,\n",
    "3.0025,\n",
    "3.2147,\n",
    "3.4275,\n",
    "3.6966,\n",
    "3.8152,\n",
    "4.0304,\n",
    "4.2025,\n",
    "4.3058,\n",
    "4.5157,\n",
    "4.8058,\n",
    "5.0371,\n",
    "5.2224,\n",
    "5.4066,\n",
    "5.646,\n",
    "5.7583,\n",
    "5.9503,\n",
    "6.3085,\n",
    "6.46,\n",
    "6.6387,\n",
    "6.7663,\n",
    "6.981,\n",
    "7.3142,\n",
    "7.5222,\n",
    "7.6363,\n",
    "7.9266,\n",
    "8.0611,\n",
    "8.5678,\n",
    "8.7356,\n",
    "9.2553,\n",
    "9.7871,\n",
    "10.152,\n",
    "10.714,\n",
    "10.987,\n",
    "11.966,\n",
    "13.138,\n",
    "13.978,\n",
    "15.143,\n",
    "16.063,\n",
    "16.985,\n",
    "18.089,\n",
    "19.335,\n",
    "20.532,\n",
    "21.31,\n",
    "22.025,\n",
    "24,\n",
    "25.259,\n",
    "26.197,\n",
    "27.122,\n",
    "28.087,\n",
    "29.087,\n",
    "32.602,\n",
    "32.326,\n",
    "34.171,\n",
    "36.028,\n",
    "37.258,\n",
    "32.138,\n",
    "40.35,\n",
    "45.174,\n",
    "50.155,\n",
    "])\n",
    "vout4 = np.asarray([26.512, #mV\n",
    "72.387,\n",
    "129.517,\n",
    "225.875,\n",
    "402.17,\n",
    "574.7,\n",
    "680.39,\n",
    "782.52,\n",
    "829.52,\n",
    "851.4,\n",
    "860.12,\n",
    "863.13,\n",
    "862.44,\n",
    "860.11,\n",
    "856.92,\n",
    "853.18,\n",
    "849.45,\n",
    "844.77,\n",
    "842.72,\n",
    "839.29,\n",
    "835.77,\n",
    "834.08,\n",
    "830.75,\n",
    "826.52,\n",
    "823.84,\n",
    "820.46,\n",
    "818.08,\n",
    "831.75,\n",
    "830.87,\n",
    "829.49,\n",
    "826.27,\n",
    "824.87,\n",
    "823.43,\n",
    "822.54,\n",
    "821.16,\n",
    "818.13,\n",
    "816.56,\n",
    "815.85,\n",
    "813.33,\n",
    "812.68,\n",
    "807.55,\n",
    "805.76,\n",
    "799.59,\n",
    "791.9,\n",
    "785.99,\n",
    "773.8,\n",
    "767.53,\n",
    "737.01,\n",
    "685.81,\n",
    "639.14,\n",
    "562.55,\n",
    "497.44,\n",
    "430.48,\n",
    "354.48,\n",
    "279.37,\n",
    "219.544,\n",
    "187.181,\n",
    "161.357,\n",
    "107.7,\n",
    "83.871,\n",
    "69.982,\n",
    "58.784,\n",
    "49.384,\n",
    "41.336,\n",
    "30.508,\n",
    "24.581,\n",
    "18.871,\n",
    "14.968,\n",
    "13.08,\n",
    "11.985,\n",
    "9.931,\n",
    "7.688,\n",
    "6.916\n",
    "])\n",
    "vin4 = 1.04879 *1000 #mV\n",
    "\n",
    "uvin4 = vin4 * 0.0026 #mV\n",
    "ufreqs4 = np.repeat(0.1, len(freqs4))\n",
    "uvout4 = np.zeros(len(vout4))\n",
    "for i in range(len(vout4)):\n",
    "    # +/-0.29 % if less than 20kHz, +/- 0.56 % if greater than 20kHz\n",
    "    if freqs4[i]<=20:\n",
    "        uvout4[i] = vout4[i]*0.0029\n",
    "    else:\n",
    "        uvout4[i] = vout4[i]*0.0056"
   ]
  },
  {
   "cell_type": "code",
   "execution_count": 4,
   "metadata": {},
   "outputs": [],
   "source": [
    "# GAIN CALCULATION\n",
    "G = vout4/(vin4*Gatt)\n",
    "uG = np.sqrt((1/(Gatt*vin4))**2 * uvin4**2 + \n",
    "             (vout4/(Gatt**2 *vin4))**2 * uGatt**2 + \n",
    "             (vout4/(Gatt*vin4**2))**2 * uvin4**2)"
   ]
  },
  {
   "cell_type": "code",
   "execution_count": 5,
   "metadata": {},
   "outputs": [
    {
     "data": {
      "image/png": "[encoded data removed]",
      "text/plain": [
       "<Figure size 432x288 with 1 Axes>"
      ]
     },
     "metadata": {
      "needs_background": "light"
     },
     "output_type": "display_data"
    }
   ],
   "source": [
    "#TRANSFER FUNCTION PLOT\n",
    "# plt.plot(freqs4,(vout4/(vin4*1000*Gatt)),'o')\n",
    "plt.errorbar(freqs4, G, yerr= uG, xerr = 0.1 ,\n",
    "             fmt='o',color='orange',ecolor='black',\n",
    "             elinewidth = 1,capsize = 2)\n",
    "plt.grid(True)\n",
    "plt.xlabel(\"Frequency (kHz)\")\n",
    "plt.ylabel(\"Gain\")\n",
    "# plt.savefig(\"./transferfnctn_error.png\", dpi=200)\n",
    "plt.show()"
   ]
  },
  {
   "cell_type": "markdown",
   "metadata": {},
   "source": [
    "Transfer Function \n",
    "$ \\sum _{n=0} ^{N-1} G_n ^{2} (f_{n+1} + f_n)$\n",
    "\n",
    "In case of arbitrary spaced samples, the two functions trapz and simps are available. They are using Newton-Coates formulas of order 1 and 2 respectively to perform integration. The trapezoidal rule approximates the function as a straight line between adjacent points, while Simpson’s rule approximates the function between three adjacent points as a parabola. (SciPy)\n",
    "\n",
    "Do scipy uncertainty with min/max uncertainty "
   ]
  },
  {
   "cell_type": "code",
   "execution_count": 6,
   "metadata": {},
   "outputs": [],
   "source": [
    "#NUMERICAL INTEGRATION\n",
    "import scipy.integrate as integrate\n",
    "\n",
    "gainSquared = G**2\n",
    "transFuncSimps = integrate.simps(gainSquared, freqs4*1000)"
   ]
  },
  {
   "cell_type": "code",
   "execution_count": 7,
   "metadata": {},
   "outputs": [],
   "source": [
    "gainSquaredMin = (G-uG)**2\n",
    "freqsMin = freqs4-ufreqs4\n",
    "gainSquaredMax = (G+uG)**2\n",
    "freqsMax = freqs4+ufreqs4"
   ]
  },
  {
   "cell_type": "code",
   "execution_count": 8,
   "metadata": {},
   "outputs": [],
   "source": [
    "transFuncSimpsMin = integrate.simps(gainSquaredMin, freqsMin*1000)\n",
    "transFuncSimpsMax = integrate.simps(gainSquaredMax, freqsMax*1000)"
   ]
  },
  {
   "cell_type": "code",
   "execution_count": 9,
   "metadata": {},
   "outputs": [],
   "source": [
    "utransFuncSimps = max(abs(transFuncSimps - transFuncSimpsMin), \n",
    "                      abs(transFuncSimps - transFuncSimpsMax))/(2*np.sqrt(len(freqs4)))"
   ]
  },
  {
   "cell_type": "code",
   "execution_count": 10,
   "metadata": {},
   "outputs": [],
   "source": [
    "#DISCRETE INTEGRATION\n",
    "transFunc = 0\n",
    "for i in range(len(gainSquared)-1):\n",
    "    transFunc += (gainSquared[i])*(freqs4[i+1]-freqs4[i])*1000"
   ]
  },
  {
   "cell_type": "code",
   "execution_count": 11,
   "metadata": {},
   "outputs": [],
   "source": [
    "# u(\\Delta f) = 2*0.1 = 0.2\n",
    "utransFunc = np.sqrt( np.sum((2*G[:-1]*np.diff(freqs4*1000))**2 *\n",
    "                             uG[:-1]**2) + np.sum(G**2)**2 * 0.2)"
   ]
  },
  {
   "cell_type": "code",
   "execution_count": 12,
   "metadata": {},
   "outputs": [
    {
     "name": "stdout",
     "output_type": "stream",
     "text": [
      "886270316694.0677 +/- 32726576048.299908\n"
     ]
    }
   ],
   "source": [
    "print(transFunc, '+/-', utransFunc)"
   ]
  },
  {
   "cell_type": "code",
   "execution_count": 13,
   "metadata": {},
   "outputs": [
    {
     "name": "stdout",
     "output_type": "stream",
     "text": [
      "861794283304.2343 +/- 11926407949.100786\n"
     ]
    }
   ],
   "source": [
    "print(transFuncSimps,'+/-', utransFuncSimps)"
   ]
  },
  {
   "cell_type": "markdown",
   "metadata": {},
   "source": [
    "# BOLTZMANN"
   ]
  },
  {
   "cell_type": "markdown",
   "metadata": {},
   "source": [
    "$ k_B = \\frac{V_{noise} ^2}{4TRG^2 \\Delta f}$ = $\\frac{V_{meas}^2-V_{inst} ^2}{4TRG^2 \\Delta f}$ "
   ]
  },
  {
   "cell_type": "code",
   "execution_count": 14,
   "metadata": {},
   "outputs": [
    {
     "name": "stdout",
     "output_type": "stream",
     "text": [
      "[1.38772668e-23 1.36279137e-23 1.24072594e-23 1.33353877e-23]\n",
      "[1.34940198e-23 1.32515531e-23 1.20646095e-23 1.29671057e-23]\n"
     ]
    }
   ],
   "source": [
    "#MEASUREMENTS DERIVED FROM 15 MEASUREMENTS WITH TYPE A UNCERTAINTY\n",
    "vinst = 0.0062052\n",
    "r1 = 5250.9\n",
    "v1 = 0.010599133333\n",
    "t1 = 20.8+273.15\n",
    "r2 = 34039\n",
    "v2 = 0.022551133333\n",
    "t2 = 20.8+273.15\n",
    "r3 = 148212\n",
    "v3 = 0.043653933333\n",
    "t3 = 21.4+273.15\n",
    "r4 = 74543\n",
    "v4 = 0.032343866666\n",
    "t4 = 20.9+273.15\n",
    "\n",
    "uvinst = 0.0336753/1000\n",
    "ur1 = r1*0.000035\n",
    "uv1 = 0.068526/1000\n",
    "ur2 = r2*0.000035\n",
    "uv2 = 0.160536/1000\n",
    "ur3 = r3*0.000035\n",
    "uv3 = 0.135020/1000\n",
    "ur4 = r4*0.000035\n",
    "uv4 = 0.157324/1000\n",
    "\n",
    "rb = np.asarray([r1,r2,r3,r4])\n",
    "vb = np.asarray([v1,v2,v3,v4])\n",
    "tb = np.asarray([t1,t2,t3,t4])\n",
    "urb = np.asarray([ur1,ur2,ur3,ur4])\n",
    "uvb = np.asarray([uv1,uv2,uv3,uv4])\n",
    "utb = np.repeat(0.5,4)\n",
    "\n",
    "kbsci = np.divide((np.square(vb)-np.square(vinst)),4*tb*rb*transFuncSimps)\n",
    "kb = np.divide((np.square(vb)-np.square(vinst)),4*tb*rb*transFunc)\n",
    "print(kbsci)\n",
    "print(kb)"
   ]
  },
  {
   "cell_type": "code",
   "execution_count": 15,
   "metadata": {},
   "outputs": [],
   "source": [
    "# UNCERTAINTY IN BOLTZMANN CONSTANTS\n",
    "ukb = np.sqrt(((2*vb/(4*tb*rb*transFunc))**2 * np.square(uvb)) +\n",
    "             ((2*vinst/(4*tb*rb*transFunc))**2 * np.square(uvinst)) +\n",
    "             (((np.square(vb)-np.square(vinst))/(4*rb*transFunc*np.square(tb)))**2 * np.square(utb)) +\n",
    "             (((np.square(vb)-np.square(vinst))/(4*tb*transFunc*np.square(rb)))**2 * np.square(urb)) +\n",
    "             (((np.square(vb)-np.square(vinst))/(4*tb*rb*np.square(transFunc)))**2 * np.square(utransFunc)))\n",
    "\n",
    "ukbSimps = np.sqrt(((2*vb/(4*tb*rb*transFuncSimps))**2 * np.square(uvb)) +\n",
    "             ((2*vinst/(4*tb*rb*transFuncSimps))**2 * np.square(uvinst)) +\n",
    "             (((np.square(vb)-np.square(vinst))/(4*rb*transFuncSimps*np.square(tb)))**2 * np.square(utb)) +\n",
    "             (((np.square(vb)-np.square(vinst))/(4*tb*transFuncSimps*np.square(rb)))**2 * np.square(urb)) +\n",
    "             (((np.square(vb)-np.square(vinst))/(4*tb*rb*np.square(transFuncSimps)))**2 * np.square(utransFuncSimps)))            "
   ]
  },
  {
   "cell_type": "code",
   "execution_count": 16,
   "metadata": {},
   "outputs": [
    {
     "name": "stdout",
     "output_type": "stream",
     "text": [
      "[1.38772668e-23 1.36279137e-23 1.24072594e-23 1.33353877e-23]\n",
      "[3.43723840e-25 2.83408470e-25 1.89921114e-25 2.29660335e-25]\n"
     ]
    }
   ],
   "source": [
    "# NUMERICAL KB\n",
    "print(kbsci)\n",
    "print(ukbSimps)"
   ]
  },
  {
   "cell_type": "code",
   "execution_count": 17,
   "metadata": {},
   "outputs": [
    {
     "name": "stdout",
     "output_type": "stream",
     "text": [
      "[1.34940198e-23 1.32515531e-23 1.20646095e-23 1.29671057e-23]\n",
      "[5.70195254e-25 5.30807732e-25 4.52436639e-25 4.96932319e-25]\n"
     ]
    }
   ],
   "source": [
    "# DISCRETE KB\n",
    "print(kb)\n",
    "print(ukb)"
   ]
  },
  {
   "cell_type": "code",
   "execution_count": 18,
   "metadata": {},
   "outputs": [
    {
     "name": "stdout",
     "output_type": "stream",
     "text": [
      "1.3311956916332514e-23\n",
      "1.3083921980873784e-25\n",
      "1.2944322013266422e-23\n",
      "2.5629649300203144e-25\n"
     ]
    }
   ],
   "source": [
    "# AVERAGE KB AND UNCERTAINTY\n",
    "print(np.mean(kbsci))\n",
    "print(abs(np.mean(kbsci-ukbSimps)-np.mean(kbsci+ukbSimps))/(2*np.sqrt(4)))\n",
    "\n",
    "print(np.mean(kb))\n",
    "print(abs(np.mean(kb-ukb)-np.mean(kb+ukb))/(2*np.sqrt(4)))"
   ]
  },
  {
   "cell_type": "markdown",
   "metadata": {},
   "source": [
    "# ELECTRON"
   ]
  },
  {
   "cell_type": "markdown",
   "metadata": {},
   "source": [
    "$ e = \\frac{I_{noise}^2}{2 I_{DC}G^2 \\Delta f}  = \\frac{(\\sqrt{V_{meas}^2 - V_{inst}^2}/R_{diode})^2}{2(V_{DC}/R_{diode})(G^2\\Delta f)} = \\frac{V_m^2-V_i^2}{2V_{DC}R_D(G^2\\Delta f)}$ "
   ]
  },
  {
   "cell_type": "code",
   "execution_count": 19,
   "metadata": {},
   "outputs": [
    {
     "name": "stdout",
     "output_type": "stream",
     "text": [
      "996 0.044820000000000006\n"
     ]
    }
   ],
   "source": [
    "Rdiode = 996\n",
    "uRdiode = Rdiode*0.000045\n",
    "print(Rdiode, uRdiode)"
   ]
  },
  {
   "cell_type": "code",
   "execution_count": 20,
   "metadata": {},
   "outputs": [],
   "source": [
    "def electronError(Vm, Vi, VDC, Rd, tf, uVm, uVi, uVDC, uRd, utf):\n",
    "    \"\"\"\n",
    "    error propagation forumla\n",
    "    \"\"\"\n",
    "    error = np.sqrt((2*Vm/(2*VDC*Rd*tf))**2 * uVm**2 +\n",
    "                    (2*Vi/(2*VDC*Rd*tf))**2 * uVi**2 +\n",
    "                    ((Vm**2 - Vi**2)/(2*Rd*tf*VDC**2))**2 * uVDC**2 +\n",
    "                    ((Vm**2 - Vi**2)/(2*VDC*tf*Rd**2))**2 * uRd**2 +\n",
    "                    ((Vm**2 - Vi**2)/(2*VDC*Rd*tf**2))**2 * utf**2)\n",
    "    return error"
   ]
  },
  {
   "cell_type": "code",
   "execution_count": 21,
   "metadata": {
    "scrolled": true
   },
   "outputs": [
    {
     "name": "stdout",
     "output_type": "stream",
     "text": [
      "0.021897899999999998\n",
      "Discrete\n",
      "1.6020979869254798e-16\n",
      "+/- 1.490966486580027e-17\n",
      "SciPy\n",
      "1.6475995695902258e-16\n",
      "+/- 1.4257942985356906e-17\n"
     ]
    }
   ],
   "source": [
    "VDC = 2599.07 #mV\n",
    "Vnoise = 28.14507 #mV \n",
    "Vinst = 7.551 #mV\n",
    "\n",
    "uVDC = 0.207044946545696*1000\n",
    "uVnoise = 0.402766484031736\n",
    "uVinst = Vinst*0.0029\n",
    "print(uVinst)\n",
    "print(\"Discrete\")\n",
    "print((np.sqrt(Vnoise**2-Vinst**2)/Rdiode)**2/(2*VDC*transFunc/Rdiode))\n",
    "print('+/-',electronError(Vnoise,Vinst,VDC,Rdiode,transFunc,\n",
    "                          uVnoise,uVinst,uVDC,uRdiode,utransFunc))\n",
    "print(\"SciPy\")\n",
    "print((np.sqrt(Vnoise**2-Vinst**2)/Rdiode)**2/(2*VDC*transFuncSimps/Rdiode))\n",
    "print('+/-',electronError(Vnoise,Vinst,VDC,Rdiode,transFuncSimps,\n",
    "                          uVnoise,uVinst,uVDC,uRdiode,utransFuncSimps))"
   ]
  },
  {
   "cell_type": "code",
   "execution_count": 22,
   "metadata": {},
   "outputs": [
    {
     "name": "stdout",
     "output_type": "stream",
     "text": [
      "0.02120642599064 0.021897899999999998\n",
      "Discrete\n",
      "1.9754655570910747e-16\n",
      "+/- 1.7202174994773782e-17\n",
      "SciPy\n",
      "2.0315712448086132e-16\n",
      "+/- 1.6266207456043304e-17\n"
     ]
    }
   ],
   "source": [
    "VDC = 841.78 #mV\n",
    "Vnoise = 18.7242 #mV \n",
    "Vinst = 7.551 #mV\n",
    "\n",
    "uVDC = 0.02120642599064*1000\n",
    "uVnoise = 0.585781716836769\n",
    "uVinst = Vinst*0.0029\n",
    "print(uVDC/1000,uVinst)\n",
    "print(\"Discrete\")\n",
    "print((np.sqrt(Vnoise**2-Vinst**2)/Rdiode)**2/(2*VDC*transFunc/Rdiode))\n",
    "print('+/-',electronError(Vnoise,Vinst,VDC,Rdiode,transFunc,\n",
    "                          uVnoise,uVinst,uVDC,uRdiode,utransFunc))\n",
    "print(\"SciPy\")\n",
    "print((np.sqrt(Vnoise**2-Vinst**2)/Rdiode)**2/(2*VDC*transFuncSimps/Rdiode))\n",
    "print('+/-',electronError(Vnoise,Vinst,VDC,Rdiode,transFuncSimps,\n",
    "                          uVnoise,uVinst,uVDC,uRdiode,utransFuncSimps))"
   ]
  },
  {
   "cell_type": "code",
   "execution_count": 23,
   "metadata": {},
   "outputs": [
    {
     "name": "stdout",
     "output_type": "stream",
     "text": [
      "0.0135 0.0360698\n",
      "Discrete\n",
      "1.7160817411784717e-16\n",
      "+/- 1.1300065157893908e-17\n",
      "SciPy\n",
      "1.764820604745451e-16\n",
      "+/- 9.926928902072458e-18\n"
     ]
    }
   ],
   "source": [
    "VDC = 1305.14285714286 #mV\n",
    "Vnoise = 21.178 #mV \n",
    "Vinst = 7.28657142857143 #mV\n",
    "\n",
    "uVDC = 0.01350*1000\n",
    "uVnoise = 0.4995714\n",
    "uVinst = 0.0360698\n",
    "print(uVDC/1000,uVinst)\n",
    "print(\"Discrete\")\n",
    "print((np.sqrt(Vnoise**2-Vinst**2)/Rdiode)**2/(2*VDC*transFunc/Rdiode))\n",
    "print('+/-',electronError(Vnoise,Vinst,VDC,Rdiode,transFunc,\n",
    "                          uVnoise,uVinst,uVDC,uRdiode,utransFunc))\n",
    "print(\"SciPy\")\n",
    "print((np.sqrt(Vnoise**2-Vinst**2)/Rdiode)**2/(2*VDC*transFuncSimps/Rdiode))\n",
    "print('+/-',electronError(Vnoise,Vinst,VDC,Rdiode,transFuncSimps,\n",
    "                          uVnoise,uVinst,uVDC,uRdiode,utransFuncSimps))"
   ]
  },
  {
   "cell_type": "code",
   "execution_count": 24,
   "metadata": {},
   "outputs": [
    {
     "name": "stdout",
     "output_type": "stream",
     "text": [
      "0.08444957 0.049218\n",
      "Discrete\n",
      "1.5629554204221614e-16\n",
      "+/- 1.1098748939909648e-17\n",
      "SciPy\n",
      "1.607345305338083e-16\n",
      "+/- 9.99993646087e-18\n"
     ]
    }
   ],
   "source": [
    "VDC = 3144.35 #mV\n",
    "Vnoise = 30.3432 #mV \n",
    "Vinst = 7.2858 #mV\n",
    "\n",
    "uVDC = 0.08444957*1000\n",
    "uVnoise = 0.777447\n",
    "uVinst = 0.049218\n",
    "print(uVDC/1000,uVinst)\n",
    "print(\"Discrete\")\n",
    "print((np.sqrt(Vnoise**2-Vinst**2)/Rdiode)**2/(2*VDC*transFunc/Rdiode))\n",
    "print('+/-',electronError(Vnoise,Vinst,VDC,Rdiode,transFunc,\n",
    "                          uVnoise,uVinst,uVDC,uRdiode,utransFunc))\n",
    "print(\"SciPy\")\n",
    "print((np.sqrt(Vnoise**2-Vinst**2)/Rdiode)**2/(2*VDC*transFuncSimps/Rdiode))\n",
    "print('+/-',electronError(Vnoise,Vinst,VDC,Rdiode,transFuncSimps,\n",
    "                          uVnoise,uVinst,uVDC,uRdiode,utransFuncSimps))"
   ]
  },
  {
   "cell_type": "code",
   "execution_count": 25,
   "metadata": {},
   "outputs": [],
   "source": [
    "e = np.array([1.6020979869254798e-16, 1.9754655570910747e-16, 1.7160817411784717e-16, 1.5629554204221614e-16])\n",
    "ue = np.array([1.490966486580027e-17, 1.7202174994773782e-17, 1.1300065157893908e-17, 1.1098748939909648e-17])\n",
    "\n",
    "esci = np.array([1.6475995695902258e-16, 2.0315712448086132e-16, 1.764820604745451e-16, 1.607345305338083e-16])\n",
    "uesci = np.array([1.4257942985356906e-17, 1.6266207456043304e-17, 9.926928902072458e-18, 9.99993646087e-18])"
   ]
  },
  {
   "cell_type": "code",
   "execution_count": 26,
   "metadata": {},
   "outputs": [
    {
     "name": "stdout",
     "output_type": "stream",
     "text": [
      "1.7628341811205933e-16\n",
      "5.089276857635422e-18\n",
      "1.7141501764042968e-16\n",
      "6.813831744797201e-18\n"
     ]
    }
   ],
   "source": [
    "# AVERAGE ELECTRON CHARGE AND UNCERTAINTIES\n",
    "print(np.mean(esci))\n",
    "print(abs(np.mean(esci-uesci)-np.mean(e+uesci))/(2*np.sqrt(4)))\n",
    "\n",
    "print(np.mean(e))\n",
    "print(abs(np.mean(e-ue)-np.mean(e+ue))/(2*np.sqrt(4)))"
   ]
  },
  {
   "cell_type": "markdown",
   "metadata": {},
   "source": [
    "# ABSOLUTE ZERO"
   ]
  },
  {
   "cell_type": "code",
   "execution_count": 27,
   "metadata": {},
   "outputs": [],
   "source": [
    "temps = np.asarray([95.5,20,1,-200])\n",
    "vtemp = np.asarray([56.0608, 34.9574,34.6534, 25.0439])/1000\n",
    "rtemps = np.asarray([96.623, 99.09, 99.87,  109])*1000\n",
    "vinstT = 6.2675/1000\n",
    "\n",
    "utemps = np.repeat(0.5,4)\n",
    "uvtemp = np.array([4.41094, 0.18684, 1.06878, 1.38903])/1000\n",
    "uvinstT = 0.038075330192199/1000\n",
    "urtemps = rtemps*0.000035/1000"
   ]
  },
  {
   "cell_type": "code",
   "execution_count": 28,
   "metadata": {},
   "outputs": [],
   "source": [
    "uVm2 = 2*vtemp*uvtemp\n",
    "uVinst2 = 2*vinstT*uvinstT\n",
    "uVn2 = np.sqrt((2*vtemp)**2 * uVm2**2 + (2*vinstT)**2 * uVinst2**2)"
   ]
  },
  {
   "cell_type": "code",
   "execution_count": 29,
   "metadata": {},
   "outputs": [],
   "source": [
    "from scipy import stats\n",
    "slope, intercept, r_value, p_value, std_err = stats.linregress((temps+273.15), \n",
    "                                                               np.square(vtemp)-np.square(vinstT))"
   ]
  },
  {
   "cell_type": "code",
   "execution_count": 31,
   "metadata": {},
   "outputs": [],
   "source": [
    "minslope, minintercept, minr_value, minp_value, minstd_err = stats.linregress((temps+273.15-utemps), \n",
    "                                                                              np.square(vtemp-uvtemp)-np.square(vinstT-uvinstT))\n",
    "\n",
    "maxslope, maxintercept, maxr_value, maxp_value, maxstd_err = stats.linregress((temps+273.15+utemps), \n",
    "                                                                              np.square(vtemp+uvtemp)-np.square(vinstT+uvinstT))"
   ]
  },
  {
   "cell_type": "code",
   "execution_count": 32,
   "metadata": {},
   "outputs": [
    {
     "data": {
      "image/png": "[encoded data removed]",
      "text/plain": [
       "<Figure size 432x288 with 1 Axes>"
      ]
     },
     "metadata": {
      "needs_background": "light"
     },
     "output_type": "display_data"
    }
   ],
   "source": [
    "x = np.arange(-10,400)\n",
    "plt.errorbar(temps+273.15, np.square(vtemp)-np.square(vinstT), \n",
    "             yerr= uVn2, xerr = utemps ,fmt='o',ecolor='black',\n",
    "             elinewidth = 1,capsize = 3, label=\"Data\")\n",
    "plt.plot(x, slope*x+intercept, color='orange', \n",
    "         label = \"{0:.3e}\".format(slope)+'$x$'+\"{0:.3e}\".format(intercept))\n",
    "plt.plot(x, minslope*x+minintercept, '-.',color='lightgrey', label = 'Range')\n",
    "plt.plot(x, maxslope*x+maxintercept, '-.',color='lightgrey')\n",
    "plt.legend()\n",
    "# plt.plot(np.zeros(10), np.linspace(-10,10,10), color='black')\n",
    "plt.plot(np.linspace(0,400,10), np.zeros(10), color='black')\n",
    "plt.grid(True)\n",
    "plt.xlabel(\"Temperature (Kelvin)\")\n",
    "plt.ylabel(\"Adjusted $V_{noise}^2$ ($V^2$)\")\n",
    "# plt.savefig(\"./absolutezero_error.png\", dpi=200)\n",
    "plt.show()"
   ]
  },
  {
   "cell_type": "code",
   "execution_count": 33,
   "metadata": {
    "scrolled": true
   },
   "outputs": [],
   "source": [
    "T0 = -intercept/slope"
   ]
  },
  {
   "cell_type": "code",
   "execution_count": 34,
   "metadata": {},
   "outputs": [],
   "source": [
    "uT0 = max(abs(T0-abs(minintercept/minslope)), abs(T0-abs(maxintercept/maxslope)))"
   ]
  },
  {
   "cell_type": "code",
   "execution_count": 36,
   "metadata": {},
   "outputs": [
    {
     "name": "stdout",
     "output_type": "stream",
     "text": [
      "33.55319826856432 +/- 9.017032953343506 K\n"
     ]
    }
   ],
   "source": [
    "print(T0, '+/-', uT0, 'K')"
   ]
  },
  {
   "cell_type": "code",
   "execution_count": null,
   "metadata": {},
   "outputs": [],
   "source": []
  }
 ],
 "metadata": {
  "kernelspec": {
   "display_name": "Python 3",
   "language": "python",
   "name": "python3"
  },
  "language_info": {
   "codemirror_mode": {
    "name": "ipython",
    "version": 3
   },
   "file_extension": ".py",
   "mimetype": "text/x-python",
   "name": "python",
   "nbconvert_exporter": "python",
   "pygments_lexer": "ipython3",
   "version": "3.6.8"
  }
 },
 "nbformat": 4,
 "nbformat_minor": 2
}
